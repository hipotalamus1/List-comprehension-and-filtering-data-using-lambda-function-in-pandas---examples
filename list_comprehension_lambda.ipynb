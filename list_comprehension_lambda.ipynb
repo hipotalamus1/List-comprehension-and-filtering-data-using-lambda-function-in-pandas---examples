{
 "cells": [
  {
   "cell_type": "markdown",
   "id": "7576f8ad",
   "metadata": {},
   "source": [
    "### Introduction"
   ]
  },
  {
   "cell_type": "markdown",
   "id": "0f760ae1",
   "metadata": {},
   "source": [
    "In this notebook i will try to explain list comprehension and filtering with lambda function through examples."
   ]
  },
  {
   "cell_type": "markdown",
   "id": "fe634f2e",
   "metadata": {},
   "source": [
    "List comprehension is a short syntax for creating a new list from existing list."
   ]
  },
  {
   "cell_type": "markdown",
   "id": "97eaa5a6",
   "metadata": {},
   "source": [
    "### Imports"
   ]
  },
  {
   "cell_type": "code",
   "execution_count": 1,
   "id": "6460b189",
   "metadata": {},
   "outputs": [],
   "source": [
    "import pandas as pd"
   ]
  },
  {
   "cell_type": "markdown",
   "id": "d362cffb",
   "metadata": {},
   "source": [
    "### List comprehension"
   ]
  },
  {
   "cell_type": "code",
   "execution_count": 2,
   "id": "d4217409",
   "metadata": {},
   "outputs": [],
   "source": [
    "countries = ['germany','cuba','france','spain','fiji','canada','russia','argentina','egypt','sweden','serbia']"
   ]
  },
  {
   "cell_type": "markdown",
   "id": "d2144a3b",
   "metadata": {},
   "source": [
    "Examples - Countries"
   ]
  },
  {
   "cell_type": "markdown",
   "id": "4aa23eef",
   "metadata": {},
   "source": [
    "Countries name starting with upper case letter"
   ]
  },
  {
   "cell_type": "code",
   "execution_count": 3,
   "id": "6a3fd5c4",
   "metadata": {},
   "outputs": [],
   "source": [
    "title_countries = []"
   ]
  },
  {
   "cell_type": "code",
   "execution_count": 4,
   "id": "1c195356",
   "metadata": {},
   "outputs": [],
   "source": [
    "for country in countries:\n",
    "    title_countries.append(country.title())"
   ]
  },
  {
   "cell_type": "code",
   "execution_count": 5,
   "id": "d5ecf5d6",
   "metadata": {},
   "outputs": [
    {
     "data": {
      "text/plain": [
       "['Germany',\n",
       " 'Cuba',\n",
       " 'France',\n",
       " 'Spain',\n",
       " 'Fiji',\n",
       " 'Canada',\n",
       " 'Russia',\n",
       " 'Argentina',\n",
       " 'Egypt',\n",
       " 'Sweden',\n",
       " 'Serbia']"
      ]
     },
     "execution_count": 5,
     "metadata": {},
     "output_type": "execute_result"
    }
   ],
   "source": [
    "title_countries"
   ]
  },
  {
   "cell_type": "markdown",
   "id": "9acbd173",
   "metadata": {},
   "source": [
    "Convert all letters in countries to uppercase"
   ]
  },
  {
   "cell_type": "code",
   "execution_count": 6,
   "id": "2410f38b",
   "metadata": {},
   "outputs": [],
   "source": [
    "upper_countries = []"
   ]
  },
  {
   "cell_type": "code",
   "execution_count": 7,
   "id": "9f95157f",
   "metadata": {},
   "outputs": [],
   "source": [
    "upper_countries = [country.upper() for country in countries]"
   ]
  },
  {
   "cell_type": "code",
   "execution_count": 8,
   "id": "8107f7d2",
   "metadata": {},
   "outputs": [
    {
     "data": {
      "text/plain": [
       "['GERMANY',\n",
       " 'CUBA',\n",
       " 'FRANCE',\n",
       " 'SPAIN',\n",
       " 'FIJI',\n",
       " 'CANADA',\n",
       " 'RUSSIA',\n",
       " 'ARGENTINA',\n",
       " 'EGYPT',\n",
       " 'SWEDEN',\n",
       " 'SERBIA']"
      ]
     },
     "execution_count": 8,
     "metadata": {},
     "output_type": "execute_result"
    }
   ],
   "source": [
    "upper_countries"
   ]
  },
  {
   "cell_type": "markdown",
   "id": "350f36dd",
   "metadata": {},
   "source": [
    "Uppercase countries names in reverse letter order"
   ]
  },
  {
   "cell_type": "code",
   "execution_count": 9,
   "id": "848cef5d",
   "metadata": {},
   "outputs": [],
   "source": [
    "reverse_order = [(country,country[::-1]) for country in upper_countries]"
   ]
  },
  {
   "cell_type": "code",
   "execution_count": 10,
   "id": "ec872fe3",
   "metadata": {},
   "outputs": [
    {
     "data": {
      "text/plain": [
       "[('GERMANY', 'YNAMREG'),\n",
       " ('CUBA', 'ABUC'),\n",
       " ('FRANCE', 'ECNARF'),\n",
       " ('SPAIN', 'NIAPS'),\n",
       " ('FIJI', 'IJIF'),\n",
       " ('CANADA', 'ADANAC'),\n",
       " ('RUSSIA', 'AISSUR'),\n",
       " ('ARGENTINA', 'ANITNEGRA'),\n",
       " ('EGYPT', 'TPYGE'),\n",
       " ('SWEDEN', 'NEDEWS'),\n",
       " ('SERBIA', 'AIBRES')]"
      ]
     },
     "execution_count": 10,
     "metadata": {},
     "output_type": "execute_result"
    }
   ],
   "source": [
    "reverse_order"
   ]
  },
  {
   "cell_type": "markdown",
   "id": "3cc75818",
   "metadata": {},
   "source": [
    "Print every country name which have more than 5 letters"
   ]
  },
  {
   "cell_type": "code",
   "execution_count": 11,
   "id": "9a534d77",
   "metadata": {},
   "outputs": [],
   "source": [
    "countries_min_5_letters = [country for country in countries if (len(country) > 5)]"
   ]
  },
  {
   "cell_type": "code",
   "execution_count": 12,
   "id": "0f47106f",
   "metadata": {},
   "outputs": [
    {
     "data": {
      "text/plain": [
       "['germany', 'france', 'canada', 'russia', 'argentina', 'sweden', 'serbia']"
      ]
     },
     "execution_count": 12,
     "metadata": {},
     "output_type": "execute_result"
    }
   ],
   "source": [
    "countries_min_5_letters"
   ]
  },
  {
   "cell_type": "markdown",
   "id": "dd5c1af4",
   "metadata": {},
   "source": [
    "Print countries which start with letter 's'"
   ]
  },
  {
   "cell_type": "code",
   "execution_count": 13,
   "id": "92a830c9",
   "metadata": {},
   "outputs": [],
   "source": [
    "countries_letter_s = [country for country in countries if country[0] == 's']"
   ]
  },
  {
   "cell_type": "code",
   "execution_count": 14,
   "id": "30b9bb32",
   "metadata": {},
   "outputs": [
    {
     "data": {
      "text/plain": [
       "['spain', 'sweden', 'serbia']"
      ]
     },
     "execution_count": 14,
     "metadata": {},
     "output_type": "execute_result"
    }
   ],
   "source": [
    "countries_letter_s"
   ]
  },
  {
   "cell_type": "code",
   "execution_count": 15,
   "id": "9a715c76",
   "metadata": {},
   "outputs": [
    {
     "data": {
      "text/plain": [
       "['germany',\n",
       " 'cuba',\n",
       " 'france',\n",
       " 'spain',\n",
       " 'fiji',\n",
       " 'canada',\n",
       " 'russia',\n",
       " 'argentina',\n",
       " 'egypt',\n",
       " 'sweden',\n",
       " 'serbia']"
      ]
     },
     "execution_count": 15,
     "metadata": {},
     "output_type": "execute_result"
    }
   ],
   "source": [
    "countries"
   ]
  },
  {
   "cell_type": "markdown",
   "id": "43e11c7c",
   "metadata": {},
   "source": [
    "Examples - Countries and population from 2020"
   ]
  },
  {
   "cell_type": "code",
   "execution_count": 16,
   "id": "fcf23243",
   "metadata": {},
   "outputs": [],
   "source": [
    "data = {'country': ['Germany','Cuba','France','Spain','Fiji','Canada','Russia','Argentina','Egypt','Sweden','Serbia'],\n",
    "        'population': [83783942,11326616,65273511,46754778,896445,37742154,145934462,45195774,102334404,10099265,8737371]}"
   ]
  },
  {
   "cell_type": "markdown",
   "id": "6d600e9b",
   "metadata": {},
   "source": [
    "Print countries which have population more than 70 milion"
   ]
  },
  {
   "cell_type": "code",
   "execution_count": 17,
   "id": "679f8e06",
   "metadata": {},
   "outputs": [
    {
     "name": "stdout",
     "output_type": "stream",
     "text": [
      "Germany\n",
      "Russia\n",
      "Egypt\n"
     ]
    }
   ],
   "source": [
    "for i in range(0,len(data['population'])):\n",
    "    if data['population'][i] > 70000000:\n",
    "        print(data['country'][i])\n",
    "    else:\n",
    "        i=i+1"
   ]
  },
  {
   "cell_type": "markdown",
   "id": "5c62b149",
   "metadata": {},
   "source": [
    "If country have more than 20 milions of people write high, else low in new column for each country"
   ]
  },
  {
   "cell_type": "code",
   "execution_count": 18,
   "id": "6127647d",
   "metadata": {},
   "outputs": [],
   "source": [
    "data['number of people'] = [\"HIGH\" if x > 10000000 else \"LOW\" for x in data['population']]"
   ]
  },
  {
   "cell_type": "markdown",
   "id": "e4962c97",
   "metadata": {},
   "source": [
    "Convert dictionary to pandas data frame"
   ]
  },
  {
   "cell_type": "code",
   "execution_count": 19,
   "id": "58a6ba3e",
   "metadata": {},
   "outputs": [],
   "source": [
    "data_df = pd.DataFrame.from_dict(data)"
   ]
  },
  {
   "cell_type": "code",
   "execution_count": 21,
   "id": "f02f2333",
   "metadata": {},
   "outputs": [
    {
     "data": {
      "text/html": [
       "<div>\n",
       "<style scoped>\n",
       "    .dataframe tbody tr th:only-of-type {\n",
       "        vertical-align: middle;\n",
       "    }\n",
       "\n",
       "    .dataframe tbody tr th {\n",
       "        vertical-align: top;\n",
       "    }\n",
       "\n",
       "    .dataframe thead th {\n",
       "        text-align: right;\n",
       "    }\n",
       "</style>\n",
       "<table border=\"1\" class=\"dataframe\">\n",
       "  <thead>\n",
       "    <tr style=\"text-align: right;\">\n",
       "      <th></th>\n",
       "      <th>country</th>\n",
       "      <th>population</th>\n",
       "      <th>number of people</th>\n",
       "    </tr>\n",
       "  </thead>\n",
       "  <tbody>\n",
       "    <tr>\n",
       "      <th>0</th>\n",
       "      <td>Germany</td>\n",
       "      <td>83783942</td>\n",
       "      <td>HIGH</td>\n",
       "    </tr>\n",
       "    <tr>\n",
       "      <th>1</th>\n",
       "      <td>Cuba</td>\n",
       "      <td>11326616</td>\n",
       "      <td>HIGH</td>\n",
       "    </tr>\n",
       "    <tr>\n",
       "      <th>2</th>\n",
       "      <td>France</td>\n",
       "      <td>65273511</td>\n",
       "      <td>HIGH</td>\n",
       "    </tr>\n",
       "    <tr>\n",
       "      <th>3</th>\n",
       "      <td>Spain</td>\n",
       "      <td>46754778</td>\n",
       "      <td>HIGH</td>\n",
       "    </tr>\n",
       "    <tr>\n",
       "      <th>4</th>\n",
       "      <td>Fiji</td>\n",
       "      <td>896445</td>\n",
       "      <td>LOW</td>\n",
       "    </tr>\n",
       "    <tr>\n",
       "      <th>5</th>\n",
       "      <td>Canada</td>\n",
       "      <td>37742154</td>\n",
       "      <td>HIGH</td>\n",
       "    </tr>\n",
       "    <tr>\n",
       "      <th>6</th>\n",
       "      <td>Russia</td>\n",
       "      <td>145934462</td>\n",
       "      <td>HIGH</td>\n",
       "    </tr>\n",
       "    <tr>\n",
       "      <th>7</th>\n",
       "      <td>Argentina</td>\n",
       "      <td>45195774</td>\n",
       "      <td>HIGH</td>\n",
       "    </tr>\n",
       "    <tr>\n",
       "      <th>8</th>\n",
       "      <td>Egypt</td>\n",
       "      <td>102334404</td>\n",
       "      <td>HIGH</td>\n",
       "    </tr>\n",
       "    <tr>\n",
       "      <th>9</th>\n",
       "      <td>Sweden</td>\n",
       "      <td>10099265</td>\n",
       "      <td>HIGH</td>\n",
       "    </tr>\n",
       "    <tr>\n",
       "      <th>10</th>\n",
       "      <td>Serbia</td>\n",
       "      <td>8737371</td>\n",
       "      <td>LOW</td>\n",
       "    </tr>\n",
       "  </tbody>\n",
       "</table>\n",
       "</div>"
      ],
      "text/plain": [
       "      country  population number of people\n",
       "0     Germany    83783942             HIGH\n",
       "1        Cuba    11326616             HIGH\n",
       "2      France    65273511             HIGH\n",
       "3       Spain    46754778             HIGH\n",
       "4        Fiji      896445              LOW\n",
       "5      Canada    37742154             HIGH\n",
       "6      Russia   145934462             HIGH\n",
       "7   Argentina    45195774             HIGH\n",
       "8       Egypt   102334404             HIGH\n",
       "9      Sweden    10099265             HIGH\n",
       "10     Serbia     8737371              LOW"
      ]
     },
     "execution_count": 21,
     "metadata": {},
     "output_type": "execute_result"
    }
   ],
   "source": [
    "data_df"
   ]
  },
  {
   "cell_type": "markdown",
   "id": "eb992489",
   "metadata": {},
   "source": [
    "### Lambda function"
   ]
  },
  {
   "cell_type": "markdown",
   "id": "8d68058e",
   "metadata": {},
   "source": [
    "Lambda function are used when we want to perform small tasks, with less code. They can have multiple arguments but one expression. They can act as anonymus function when they do not require any name. They are defined using keyword lambda."
   ]
  },
  {
   "cell_type": "markdown",
   "id": "7b0448b2",
   "metadata": {},
   "source": [
    "Basic example lambda function example:"
   ]
  },
  {
   "cell_type": "markdown",
   "id": "697d7ceb",
   "metadata": {},
   "source": [
    "List even, odd, square and cube of integers from list of integers, filtering with lambdas. Then count number of occurences of even and odd numbers."
   ]
  },
  {
   "cell_type": "code",
   "execution_count": 103,
   "id": "289a3b95",
   "metadata": {},
   "outputs": [
    {
     "name": "stdout",
     "output_type": "stream",
     "text": [
      "[15 14  2  5 18 10  1 27  1 13 25]\n",
      "Even numbers: [14, 2, 18, 10] Count of even numbers 4\n",
      "Odd numbers: [15, 5, 1, 27, 1, 13, 25] Count of odd numbers 7 \n",
      "Squares of numbers: [15, 14, 2, 5, 18, 10, 1, 27, 1, 13, 25]\n",
      "Cubes of numbers: [15, 14, 2, 5, 18, 10, 1, 27, 1, 13, 25]\n"
     ]
    }
   ],
   "source": [
    "import numpy as np # we will import numpy for purpose of creating random numbers for example\n",
    "\n",
    "numbers = np.random.randint(1,30,11)\n",
    "\n",
    "even = list(filter(lambda x: x%2 == 0, numbers))\n",
    "odd = list(filter(lambda x: x%2 != 0, numbers))\n",
    "square = list(filter(lambda x: x**2, numbers))\n",
    "cube = list(filter(lambda x: x**3, numbers))\n",
    "\n",
    "even_count = len(even)\n",
    "odd_count = len(odd)\n",
    "\n",
    "print(numbers)\n",
    "print(f\"Even numbers: {even} Count of even numbers {even_count}\")\n",
    "print(f\"Odd numbers: {odd} Count of odd numbers {odd_count} \")\n",
    "print(f\"Squares of numbers: {square}\")\n",
    "print(f\"Cubes of numbers: {cube}\")\n"
   ]
  },
  {
   "cell_type": "markdown",
   "id": "23e1db0f",
   "metadata": {},
   "source": [
    "Use lambda and filter to print countries names which contain more than 8 letters."
   ]
  },
  {
   "cell_type": "code",
   "execution_count": 104,
   "id": "d9e524c3",
   "metadata": {},
   "outputs": [],
   "source": [
    "countries = ['germany','cuba','france','spain','fiji','canada','russia','argentina','egypt','sweden','serbia']"
   ]
  },
  {
   "cell_type": "code",
   "execution_count": 105,
   "id": "1cb766b8",
   "metadata": {},
   "outputs": [],
   "source": [
    "is_long = lambda x: len(x) > 8"
   ]
  },
  {
   "cell_type": "code",
   "execution_count": 106,
   "id": "bcbf22d1",
   "metadata": {},
   "outputs": [],
   "source": [
    "countries_long = list(filter(is_long, countries))"
   ]
  },
  {
   "cell_type": "code",
   "execution_count": 107,
   "id": "c68c4183",
   "metadata": {},
   "outputs": [
    {
     "data": {
      "text/plain": [
       "['argentina']"
      ]
     },
     "execution_count": 107,
     "metadata": {},
     "output_type": "execute_result"
    }
   ],
   "source": [
    "countries_long"
   ]
  },
  {
   "cell_type": "markdown",
   "id": "cc24c831",
   "metadata": {},
   "source": [
    "Lambda function explained on family data frame"
   ]
  },
  {
   "cell_type": "markdown",
   "id": "1ee4f52d",
   "metadata": {},
   "source": [
    "About data frame:\n",
    "- id - is identifying information for each member\n",
    "- Income is given in USD per month."
   ]
  },
  {
   "cell_type": "code",
   "execution_count": 108,
   "id": "45f4f2f9",
   "metadata": {},
   "outputs": [],
   "source": [
    "family = pd.DataFrame({\n",
    "    'id': [1,2,3,4],\n",
    "    'name': ['Father','Mother','son','daughter'],\n",
    "    'age': [46,43,17,25],\n",
    "    'income': [3600,4000,1000,3000]\n",
    "})"
   ]
  },
  {
   "cell_type": "markdown",
   "id": "177fb344",
   "metadata": {},
   "source": [
    "Every person in family got 10% increase in monthly income. Use lambda and display data frame with increased income values."
   ]
  },
  {
   "cell_type": "code",
   "execution_count": 111,
   "id": "7c6f7ecd",
   "metadata": {},
   "outputs": [],
   "source": [
    "family_income_increase = family['income'].apply(lambda x: 1.1 * x)"
   ]
  },
  {
   "cell_type": "code",
   "execution_count": 112,
   "id": "8568ff3f",
   "metadata": {},
   "outputs": [
    {
     "data": {
      "text/plain": [
       "0    3960.0\n",
       "1    4400.0\n",
       "2    1100.0\n",
       "3    3300.0\n",
       "Name: income, dtype: float64"
      ]
     },
     "execution_count": 112,
     "metadata": {},
     "output_type": "execute_result"
    }
   ],
   "source": [
    "family_income_increase"
   ]
  },
  {
   "cell_type": "markdown",
   "id": "2b0f33b1",
   "metadata": {},
   "source": [
    "Additional calculation"
   ]
  },
  {
   "cell_type": "markdown",
   "id": "d917159b",
   "metadata": {},
   "source": [
    "Calculating total family income and average family income"
   ]
  },
  {
   "cell_type": "code",
   "execution_count": 116,
   "id": "2d451fd5",
   "metadata": {},
   "outputs": [
    {
     "name": "stdout",
     "output_type": "stream",
     "text": [
      "Total family income is 12760.0 USD per month\n"
     ]
    }
   ],
   "source": [
    "total = family_income_increase.sum()\n",
    "print(\"Total family income is {} USD per month\".format(total))"
   ]
  },
  {
   "cell_type": "code",
   "execution_count": 117,
   "id": "2ccc8b54",
   "metadata": {},
   "outputs": [
    {
     "name": "stdout",
     "output_type": "stream",
     "text": [
      "Average family income is 3190.0 USD per month\n"
     ]
    }
   ],
   "source": [
    "average = family_income_increase.mean()\n",
    "print(\"Average family income is {} USD per month\".format(average))"
   ]
  },
  {
   "cell_type": "markdown",
   "id": "28667879",
   "metadata": {},
   "source": [
    "Highest income"
   ]
  },
  {
   "cell_type": "code",
   "execution_count": 134,
   "id": "fd9af377",
   "metadata": {},
   "outputs": [],
   "source": [
    "max_income = family_income_increase.max()"
   ]
  },
  {
   "cell_type": "code",
   "execution_count": 135,
   "id": "6d11adba",
   "metadata": {},
   "outputs": [
    {
     "name": "stdout",
     "output_type": "stream",
     "text": [
      "Highest income is 4400.0 USD per month\n"
     ]
    }
   ],
   "source": [
    "print(f\"Highest income in family is {max_income} USD per month\")"
   ]
  },
  {
   "cell_type": "code",
   "execution_count": null,
   "id": "0889c50a",
   "metadata": {},
   "outputs": [],
   "source": [
    "Lowest income"
   ]
  },
  {
   "cell_type": "code",
   "execution_count": 136,
   "id": "16673a05",
   "metadata": {},
   "outputs": [],
   "source": [
    "min_income = family_income_increase.min()"
   ]
  },
  {
   "cell_type": "code",
   "execution_count": 137,
   "id": "944a05dc",
   "metadata": {},
   "outputs": [
    {
     "name": "stdout",
     "output_type": "stream",
     "text": [
      "Lowest income is 1100.0 USD per month\n"
     ]
    }
   ],
   "source": [
    "print(f\"Lowest income in family is {min_income} USD per month\")"
   ]
  },
  {
   "cell_type": "markdown",
   "id": "5ca75786",
   "metadata": {},
   "source": [
    "Creation of new column category, in which is written Adult or Child. Person in family is Adult if it is more than 18 years old or 18 years old. Person inn family is Child if it is less than 18 yeras old."
   ]
  },
  {
   "cell_type": "code",
   "execution_count": 77,
   "id": "7824cf51",
   "metadata": {},
   "outputs": [],
   "source": [
    "family['category'] = family['age'].apply(lambda x: 'Adult' if x >= 18 else 'Child')"
   ]
  },
  {
   "cell_type": "code",
   "execution_count": 78,
   "id": "b8f46320",
   "metadata": {},
   "outputs": [
    {
     "data": {
      "text/html": [
       "<div>\n",
       "<style scoped>\n",
       "    .dataframe tbody tr th:only-of-type {\n",
       "        vertical-align: middle;\n",
       "    }\n",
       "\n",
       "    .dataframe tbody tr th {\n",
       "        vertical-align: top;\n",
       "    }\n",
       "\n",
       "    .dataframe thead th {\n",
       "        text-align: right;\n",
       "    }\n",
       "</style>\n",
       "<table border=\"1\" class=\"dataframe\">\n",
       "  <thead>\n",
       "    <tr style=\"text-align: right;\">\n",
       "      <th></th>\n",
       "      <th>id</th>\n",
       "      <th>name</th>\n",
       "      <th>age</th>\n",
       "      <th>income</th>\n",
       "      <th>category</th>\n",
       "    </tr>\n",
       "  </thead>\n",
       "  <tbody>\n",
       "    <tr>\n",
       "      <th>0</th>\n",
       "      <td>1</td>\n",
       "      <td>Father</td>\n",
       "      <td>46</td>\n",
       "      <td>3600</td>\n",
       "      <td>Adult</td>\n",
       "    </tr>\n",
       "    <tr>\n",
       "      <th>1</th>\n",
       "      <td>2</td>\n",
       "      <td>Mother</td>\n",
       "      <td>43</td>\n",
       "      <td>4000</td>\n",
       "      <td>Adult</td>\n",
       "    </tr>\n",
       "    <tr>\n",
       "      <th>2</th>\n",
       "      <td>3</td>\n",
       "      <td>son</td>\n",
       "      <td>17</td>\n",
       "      <td>1000</td>\n",
       "      <td>Child</td>\n",
       "    </tr>\n",
       "    <tr>\n",
       "      <th>3</th>\n",
       "      <td>4</td>\n",
       "      <td>daughter</td>\n",
       "      <td>25</td>\n",
       "      <td>3000</td>\n",
       "      <td>Adult</td>\n",
       "    </tr>\n",
       "  </tbody>\n",
       "</table>\n",
       "</div>"
      ],
      "text/plain": [
       "   id      name  age  income category\n",
       "0   1    Father   46    3600    Adult\n",
       "1   2    Mother   43    4000    Adult\n",
       "2   3       son   17    1000    Child\n",
       "3   4  daughter   25    3000    Adult"
      ]
     },
     "execution_count": 78,
     "metadata": {},
     "output_type": "execute_result"
    }
   ],
   "source": [
    "family"
   ]
  }
 ],
 "metadata": {
  "kernelspec": {
   "display_name": "Python 3 (ipykernel)",
   "language": "python",
   "name": "python3"
  },
  "language_info": {
   "codemirror_mode": {
    "name": "ipython",
    "version": 3
   },
   "file_extension": ".py",
   "mimetype": "text/x-python",
   "name": "python",
   "nbconvert_exporter": "python",
   "pygments_lexer": "ipython3",
   "version": "3.9.7"
  }
 },
 "nbformat": 4,
 "nbformat_minor": 5
}
